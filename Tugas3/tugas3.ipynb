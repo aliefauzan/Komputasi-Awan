{
  "nbformat": 4,
  "nbformat_minor": 0,
  "metadata": {
    "colab": {
      "provenance": []
    },
    "kernelspec": {
      "name": "python3",
      "display_name": "Python 3"
    },
    "language_info": {
      "name": "python"
    }
  },
  "cells": [
    {
      "cell_type": "markdown",
      "source": [
        "RAZZAQI NURRADITHYA SASTROPRAWIRO 1304221082\n",
        "\n",
        "JEREMY AGAPE 1304221009\n",
        "\n",
        "ANDI MUHAMMAD\n",
        "ALIEF FAUZAN 1304221063\n",
        "\n",
        "MUHAMMAD RAMA\n",
        "REFIANDO 1304221057\n",
        "\n",
        "ILHAM RIZAL DIANTAMA 103042310072\n"
      ],
      "metadata": {
        "id": "vjxGbqAKa6s9"
      }
    },
    {
      "cell_type": "code",
      "source": [
        "import threading  # Import modul threading untuk membuat thread\n",
        "import math        # Import modul math untuk pembagian data\n",
        "from queue import Queue  # Queue untuk menyimpan hasil sementara antar thread\n"
      ],
      "metadata": {
        "id": "6TF3bD-SacJ9"
      },
      "execution_count": null,
      "outputs": []
    },
    {
      "cell_type": "code",
      "source": [
        "# Fungsi yang akan dijalankan oleh setiap thread\n",
        "def partial_sum(start, end, result_queue):\n",
        "    \"\"\"Menjumlahkan angka dari start hingga end, lalu hasilnya dimasukkan ke queue.\"\"\"\n",
        "    total = 0\n",
        "    for i in range(start, end + 1):  # Loop dari start ke end\n",
        "        total += i\n",
        "    result_queue.put(total)  # Simpan hasil ke antrian agar bisa diambil di thread utama"
      ],
      "metadata": {
        "id": "CwmInDZAaGDd"
      },
      "execution_count": null,
      "outputs": []
    },
    {
      "cell_type": "code",
      "execution_count": null,
      "metadata": {
        "colab": {
          "base_uri": "https://localhost:8080/"
        },
        "id": "-m4QXpOPZ48N",
        "outputId": "6e1ae237-dc0d-4656-9ba9-29fbd7d7c747"
      },
      "outputs": [
        {
          "output_type": "stream",
          "name": "stdout",
          "text": [
            "Input angka awal: 1\n",
            "Input angka akhir: 10\n",
            "Thread yang digunakan: 4\n",
            "Hasil penjumlahan: 55\n"
          ]
        }
      ],
      "source": [
        "\n",
        "if __name__ == \"__main__\":\n",
        "    # Input dari pengguna\n",
        "    start_num = int(input(\"Input angka awal: \"))         #untuk input angka awal\n",
        "    end_num = int(input(\"Input angka akhir: \"))          #untuk angka akhir\n",
        "    thread_count = int(input(\"Thread yang digunakan: \")) #untuk Thread yang ingin digunakan\n",
        "\n",
        "    # Pastikan jumlah thread minimal 2\n",
        "    if thread_count < 2: # Jika Thread kurang dari 2\n",
        "        print(\"Minimal thread yang digunakan adalah 2.\") # maka kasih peringatan\n",
        "        exit() # dan menghentikan program\n",
        "\n",
        "    result_queue = Queue()     # queue untuk menampung hasil penjumlahan (secara parsial)\n",
        "\n",
        "    # Hitung berapa banyak angka yang akan dikerjakan setiap thread\n",
        "    total_numbers = end_num - start_num + 1 # menghitung jumlah total angka yang akan di jumlahkan\n",
        "    chunk_size = math.ceil(total_numbers / thread_count)  # Bagi rata ke setiap thread\n",
        "\n",
        "    threads = []  # List untuk menyimpan semua thread\n",
        "\n",
        "    # Buat dan mulai setiap thread\n",
        "    for i in range(thread_count): # memulai looping sebanyak jumlah thread\n",
        "        sub_start = start_num + i * chunk_size # menentukan awal thread ke i\n",
        "        sub_end = min(sub_start + chunk_size - 1, end_num)  # Jangan melebihi angka akhir\n",
        "\n",
        "        # Buat thread baru untuk menjumlahkan sebagian data\n",
        "        t = threading.Thread(target=partial_sum, args=(sub_start, sub_end, result_queue)) # inisiasi variabel untuk menyimpan thread\n",
        "        threads.append(t) # menggabungkan thread ke list\n",
        "        t.start()  # Jalankan thread\n",
        "\n",
        "    # Tunggu semua thread selesai\n",
        "    for t in threads:\n",
        "        t.join()\n",
        "\n",
        "    # Ambil semua hasil dari queue dan jumlahkan\n",
        "    total_sum = 0\n",
        "    while not result_queue.empty(): #selama queue masih ada\n",
        "        total_sum += result_queue.get() # tambahkan ke total\n",
        "\n",
        "    # Tampilkan hasil akhir\n",
        "    print(f\"Hasil penjumlahan: {total_sum}\")\n"
      ]
    },
    {
      "cell_type": "code",
      "source": [],
      "metadata": {
        "id": "dw91ZDRUaJRA"
      },
      "execution_count": null,
      "outputs": []
    }
  ]
}